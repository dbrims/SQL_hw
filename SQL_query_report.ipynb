{
 "cells": [
  {
   "cell_type": "markdown",
   "metadata": {},
   "source": [
    "How can you isolate (or group) the transactions of each cardholder? we can join the card holder column to the transaction table and then order by the card horder value\n",
    "\n",
    "Consider the time period 7:00 a.m. to 9:00 a.m.\n",
    "\n",
    "What are the 100 highest transactions during this time period?\n",
    "\n",
    "Do you see any fraudulent or anomalous transactions?\n",
    "Yes.  \n",
    "\n",
    "If you answered yes to the previous question, explain why you think there might be fraudulent transactions during this time frame. \n",
    "Many of the top 100 transactions are from bars/pubs, which this early in the morning would raise a red flag (unless they are serving coffee or such at this time of day)\n",
    "\n",
    "Some fraudstershack a credit card by making several small payments (generally less than  2.00),𝑤ℎ𝑖𝑐ℎ𝑎𝑟𝑒𝑡𝑦𝑝𝑖𝑐𝑎𝑙𝑙𝑦𝑖𝑔𝑛𝑜𝑟𝑒𝑑𝑏𝑦𝑐𝑎𝑟𝑑ℎ𝑜𝑙𝑑𝑒𝑟𝑠.𝐶𝑜𝑢𝑛𝑡𝑡ℎ𝑒𝑡𝑟𝑎𝑛𝑠𝑎𝑐𝑡𝑖𝑜𝑛𝑠𝑡ℎ𝑎𝑡𝑎𝑟𝑒𝑙𝑒𝑠𝑠𝑡ℎ𝑎𝑛 2.00 per cardholder. Is there any evidence to suggest that a credit card has been hacked? Explain your rationale.\n",
    "\n",
    "What are the top five merchants prone to being hacked using small transactions? the top 5 bars with small transactions are:\n",
    "\"Wood-Ramirez\"\n",
    "\"Hood-Phillips\"\n",
    "\"Atkinson Ltd\"\n",
    "\"Greene-Wood\"\n",
    "\"Jarvis-Turner\" \n",
    "and these are probably the most likely fraud\n",
    "\n",
    "Once you have a query that can be reused, create a view for each of the previous queries."
   ]
  }
 ],
 "metadata": {
  "kernelspec": {
   "display_name": "Python 3",
   "language": "python",
   "name": "python3"
  },
  "language_info": {
   "codemirror_mode": {
    "name": "ipython",
    "version": 3
   },
   "file_extension": ".py",
   "mimetype": "text/x-python",
   "name": "python",
   "nbconvert_exporter": "python",
   "pygments_lexer": "ipython3",
   "version": "3.7.7"
  }
 },
 "nbformat": 4,
 "nbformat_minor": 4
}
